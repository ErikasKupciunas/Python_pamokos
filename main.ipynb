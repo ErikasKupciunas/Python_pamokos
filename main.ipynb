{
 "cells": [
  {
   "cell_type": "code",
   "execution_count": 6,
   "id": "initial_id",
   "metadata": {
    "collapsed": true,
    "jupyter": {
     "outputs_hidden": true
    },
    "ExecuteTime": {
     "end_time": "2023-10-24T16:28:37.934487600Z",
     "start_time": "2023-10-24T16:28:36.993304Z"
    }
   },
   "outputs": [
    {
     "ename": "NameError",
     "evalue": "name 'Print' is not defined",
     "output_type": "error",
     "traceback": [
      "\u001B[1;31m---------------------------------------------------------------------------\u001B[0m",
      "\u001B[1;31mNameError\u001B[0m                                 Traceback (most recent call last)",
      "Cell \u001B[1;32mIn[6], line 2\u001B[0m\n\u001B[0;32m      1\u001B[0m age \u001B[38;5;241m=\u001B[39m \u001B[38;5;241m20\u001B[39m\n\u001B[1;32m----> 2\u001B[0m \u001B[43mPrint\u001B[49m(age)\n",
      "\u001B[1;31mNameError\u001B[0m: name 'Print' is not defined"
     ]
    }
   ],
   "source": [
    "age = 20\n",
    "Print(age)"
   ]
  },
  {
   "cell_type": "code",
   "execution_count": 5,
   "id": "557102dddf710539",
   "metadata": {
    "ExecuteTime": {
     "end_time": "2023-10-24T13:36:49.125931300Z",
     "start_time": "2023-10-24T13:36:49.093018700Z"
    },
    "collapsed": false
   },
   "outputs": [],
   "source": []
  },
  {
   "cell_type": "code",
   "execution_count": 5,
   "id": "d0ebaa8664e7472c",
   "metadata": {
    "ExecuteTime": {
     "end_time": "2023-10-24T13:36:49.131914500Z",
     "start_time": "2023-10-24T13:36:49.104990300Z"
    },
    "collapsed": false
   },
   "outputs": [],
   "source": []
  }
 ],
 "metadata": {
  "kernelspec": {
   "display_name": "Python 3 (ipykernel)",
   "language": "python",
   "name": "python3"
  },
  "language_info": {
   "codemirror_mode": {
    "name": "ipython",
    "version": 3
   },
   "file_extension": ".py",
   "mimetype": "text/x-python",
   "name": "python",
   "nbconvert_exporter": "python",
   "pygments_lexer": "ipython3",
   "version": "3.10.11"
  }
 },
 "nbformat": 4,
 "nbformat_minor": 5
}
